{
 "cells": [
  {
   "cell_type": "markdown",
   "id": "10591a79",
   "metadata": {},
   "source": [
    "# Step 1: Import Required Libraries"
   ]
  },
  {
   "cell_type": "code",
   "execution_count": 1,
   "id": "63265982",
   "metadata": {},
   "outputs": [],
   "source": [
    "# Import libraries \n",
    "import pandas as pd\n",
    "import numpy as np\n",
    "from sklearn.model_selection import train_test_split\n",
    "from sklearn.feature_extraction.text import CountVectorizer\n",
    "from sklearn.naive_bayes import MultinomialNB\n",
    "from sklearn.metrics import accuracy_score, confusion_matrix, classification_report\n",
    "import nltk\n",
    "from nltk.corpus import stopwords\n",
    "from nltk.stem.porter import PorterStemmer\n",
    "import string\n",
    "import joblib"
   ]
  },
  {
   "cell_type": "markdown",
   "id": "03203a47",
   "metadata": {},
   "source": [
    "# Step 2: Load the Dataset"
   ]
  },
  {
   "cell_type": "code",
   "execution_count": 2,
   "id": "e3e3ed31",
   "metadata": {},
   "outputs": [
    {
     "name": "stdout",
     "output_type": "stream",
     "text": [
      "\n",
      "******** First 5 rows of the dataset ********\n",
      "\n",
      "     v1                                                 v2 Unnamed: 2  \\\n",
      "0   ham  Go until jurong point, crazy.. Available only ...        NaN   \n",
      "1   ham                      Ok lar... Joking wif u oni...        NaN   \n",
      "2  spam  Free entry in 2 a wkly comp to win FA Cup fina...        NaN   \n",
      "3   ham  U dun say so early hor... U c already then say...        NaN   \n",
      "4   ham  Nah I don't think he goes to usf, he lives aro...        NaN   \n",
      "\n",
      "  Unnamed: 3 Unnamed: 4  \n",
      "0        NaN        NaN  \n",
      "1        NaN        NaN  \n",
      "2        NaN        NaN  \n",
      "3        NaN        NaN  \n",
      "4        NaN        NaN  \n",
      "\n",
      "******** Dataset Info ********\n",
      "\n",
      "<class 'pandas.core.frame.DataFrame'>\n",
      "RangeIndex: 5572 entries, 0 to 5571\n",
      "Data columns (total 5 columns):\n",
      " #   Column      Non-Null Count  Dtype \n",
      "---  ------      --------------  ----- \n",
      " 0   v1          5572 non-null   object\n",
      " 1   v2          5572 non-null   object\n",
      " 2   Unnamed: 2  50 non-null     object\n",
      " 3   Unnamed: 3  12 non-null     object\n",
      " 4   Unnamed: 4  6 non-null      object\n",
      "dtypes: object(5)\n",
      "memory usage: 217.8+ KB\n",
      "None\n",
      "\n",
      "******** Dataset Description ********\n",
      "\n",
      "          v1                      v2  \\\n",
      "count   5572                    5572   \n",
      "unique     2                    5169   \n",
      "top      ham  Sorry, I'll call later   \n",
      "freq    4825                      30   \n",
      "\n",
      "                                               Unnamed: 2  \\\n",
      "count                                                  50   \n",
      "unique                                                 43   \n",
      "top      bt not his girlfrnd... G o o d n i g h t . . .@\"   \n",
      "freq                                                    3   \n",
      "\n",
      "                   Unnamed: 3 Unnamed: 4  \n",
      "count                      12          6  \n",
      "unique                     10          5  \n",
      "top      MK17 92H. 450Ppw 16\"    GNT:-)\"  \n",
      "freq                        2          2  \n"
     ]
    }
   ],
   "source": [
    "# Load the dataset from a local file\n",
    "dataset_path = 'spam.csv'\n",
    "\n",
    "# Load the dataset with proper encoding\n",
    "df = pd.read_csv(dataset_path, encoding='latin-1')\n",
    "\n",
    "# Display the first few rows to understand the structure\n",
    "print(\"\\n******** First 5 rows of the dataset ********\\n\")\n",
    "print(df.head())\n",
    "\n",
    "# Check the column information\n",
    "print(\"\\n******** Dataset Info ********\\n\")\n",
    "print(df.info())\n",
    "\n",
    "# Check basic statistics of the dataset\n",
    "print(\"\\n******** Dataset Description ********\\n\")\n",
    "print(df.describe(include='all'))\n"
   ]
  },
  {
   "cell_type": "markdown",
   "id": "c7aec89f",
   "metadata": {},
   "source": [
    "# Step 3: Data Cleaning and Preprocessing"
   ]
  },
  {
   "cell_type": "code",
   "execution_count": 3,
   "id": "8236b178",
   "metadata": {},
   "outputs": [
    {
     "name": "stdout",
     "output_type": "stream",
     "text": [
      "\n",
      "********Missing Values ********\n",
      "\n",
      "label      0\n",
      "message    0\n",
      "dtype: int64\n",
      "\n",
      "******** Label Distribution ********\n",
      "\n",
      "label\n",
      "ham     4825\n",
      "spam     747\n",
      "Name: count, dtype: int64\n",
      "\n",
      "******** Cleaned Dataset ********\n",
      "\n",
      "   label                                            message\n",
      "0      0  Go until jurong point, crazy.. Available only ...\n",
      "1      0                      Ok lar... Joking wif u oni...\n",
      "2      1  Free entry in 2 a wkly comp to win FA Cup fina...\n",
      "3      0  U dun say so early hor... U c already then say...\n",
      "4      0  Nah I don't think he goes to usf, he lives aro...\n"
     ]
    }
   ],
   "source": [
    "# Retain only relevant columns\n",
    "df = df[['v1', 'v2']].rename(columns={'v1': 'label', 'v2': 'message'})\n",
    "\n",
    "# Check for missing values\n",
    "print(\"\\n********Missing Values ********\\n\")\n",
    "print(df.isnull().sum())\n",
    "\n",
    "# Check the distribution of labels (ham/spam)\n",
    "print(\"\\n******** Label Distribution ********\\n\")\n",
    "print(df['label'].value_counts())\n",
    "\n",
    "# Encode labels: ham -> 0, spam -> 1\n",
    "df['label'] = df['label'].map({'ham': 0, 'spam': 1})\n",
    "\n",
    "# Display the first few rows of the cleaned dataset\n",
    "print(\"\\n******** Cleaned Dataset ********\\n\")\n",
    "print(df.head())\n"
   ]
  },
  {
   "cell_type": "markdown",
   "id": "423c07a1",
   "metadata": {},
   "source": [
    "# Step 4: Text Cleaning"
   ]
  },
  {
   "cell_type": "code",
   "execution_count": 4,
   "id": "9e425279",
   "metadata": {},
   "outputs": [
    {
     "name": "stderr",
     "output_type": "stream",
     "text": [
      "[nltk_data] Downloading package stopwords to C:\\Users\\SURAJ\n",
      "[nltk_data]     NATE\\AppData\\Roaming\\nltk_data...\n",
      "[nltk_data]   Package stopwords is already up-to-date!\n"
     ]
    },
    {
     "name": "stdout",
     "output_type": "stream",
     "text": [
      "\n",
      "******** Cleaned Messages ********\n",
      "\n",
      "   label                                            message\n",
      "0      0  go jurong point crazi avail bugi n great world...\n",
      "1      0                              ok lar joke wif u oni\n",
      "2      1  free entri 2 wkli comp win fa cup final tkt 21...\n",
      "3      0                u dun say earli hor u c alreadi say\n",
      "4      0          nah dont think goe usf live around though\n"
     ]
    }
   ],
   "source": [
    "# Download stopwords for text preprocessing\n",
    "nltk.download('stopwords')\n",
    "\n",
    "# Initialize the PorterStemmer for stemming\n",
    "ps = PorterStemmer()\n",
    "\n",
    "# Function to clean and preprocess text\n",
    "def clean_text(text):\n",
    "    # Convert text to lowercase\n",
    "    text = text.lower()\n",
    "    \n",
    "    # Remove punctuation\n",
    "    text = ''.join([char for char in text if char not in string.punctuation])\n",
    "    \n",
    "    # Tokenize and remove stopwords\n",
    "    words = text.split()\n",
    "    words = [ps.stem(word) for word in words if word not in stopwords.words('english')]\n",
    "    \n",
    "    # Rejoin the words into a single string\n",
    "    return ' '.join(words)\n",
    "\n",
    "# Apply the cleaning function to the message column\n",
    "df['message'] = df['message'].apply(clean_text)\n",
    "\n",
    "# Display a few cleaned messages\n",
    "print(\"\\n******** Cleaned Messages ********\\n\")\n",
    "print(df.head())\n"
   ]
  },
  {
   "cell_type": "markdown",
   "id": "fdb6766d",
   "metadata": {},
   "source": [
    "# Step 5: Feature Extraction"
   ]
  },
  {
   "cell_type": "code",
   "execution_count": 5,
   "id": "f076f60b",
   "metadata": {},
   "outputs": [
    {
     "name": "stdout",
     "output_type": "stream",
     "text": [
      "\n",
      "Feature Matrix Shape :  (5572, 8038)\n"
     ]
    }
   ],
   "source": [
    "# Initialize the CountVectorizer for Bag-of-Words\n",
    "cv = CountVectorizer()\n",
    "\n",
    "# Fit and transform the message column to create the feature matrix\n",
    "X = cv.fit_transform(df['message']).toarray()\n",
    "\n",
    "# Extract labels as the target variable\n",
    "y = df['label']\n",
    "\n",
    "# Display the shape of the feature matrix\n",
    "print(\"\\nFeature Matrix Shape : \", X.shape)\n"
   ]
  },
  {
   "cell_type": "markdown",
   "id": "2178c086",
   "metadata": {},
   "source": [
    "# Step 6: Split the Dataset"
   ]
  },
  {
   "cell_type": "code",
   "execution_count": 6,
   "id": "0c8a7350",
   "metadata": {},
   "outputs": [
    {
     "name": "stdout",
     "output_type": "stream",
     "text": [
      "\n",
      "Training Set Shape: (4457, 8038)\n",
      "Testing Set Shape: (1115, 8038)\n"
     ]
    }
   ],
   "source": [
    "# Split the data into training and testing sets (80% training, 20% testing)\n",
    "X_train, X_test, y_train, y_test = train_test_split(X, y, test_size=0.2, random_state=42)\n",
    "\n",
    "# Display the shapes of the splits\n",
    "print(\"\\nTraining Set Shape:\", X_train.shape)\n",
    "print(\"Testing Set Shape:\", X_test.shape)"
   ]
  },
  {
   "cell_type": "markdown",
   "id": "17be16a4",
   "metadata": {},
   "source": [
    "# Step 7: Train the Model"
   ]
  },
  {
   "cell_type": "code",
   "execution_count": 7,
   "id": "e616dcfb",
   "metadata": {},
   "outputs": [
    {
     "name": "stdout",
     "output_type": "stream",
     "text": [
      "\n",
      "Model training completed.\n"
     ]
    }
   ],
   "source": [
    "# Initialize the Naive Bayes model\n",
    "model = MultinomialNB()\n",
    "\n",
    "# Train the model on the training data\n",
    "model.fit(X_train, y_train)\n",
    "\n",
    "# Print confirmation\n",
    "print(\"\\nModel training completed.\")\n"
   ]
  },
  {
   "cell_type": "markdown",
   "id": "5d119f5a",
   "metadata": {},
   "source": [
    "# Step 8: Evaluate the Model"
   ]
  },
  {
   "cell_type": "code",
   "execution_count": 8,
   "id": "b390879f",
   "metadata": {},
   "outputs": [
    {
     "name": "stdout",
     "output_type": "stream",
     "text": [
      "\n",
      "Model Accuracy: 0.9775784753363229\n",
      "\n",
      "Confusion Matrix:\n",
      "[[952  13]\n",
      " [ 12 138]]\n",
      "\n",
      "Classification Report:\n",
      "              precision    recall  f1-score   support\n",
      "\n",
      "           0       0.99      0.99      0.99       965\n",
      "           1       0.91      0.92      0.92       150\n",
      "\n",
      "    accuracy                           0.98      1115\n",
      "   macro avg       0.95      0.95      0.95      1115\n",
      "weighted avg       0.98      0.98      0.98      1115\n",
      "\n"
     ]
    }
   ],
   "source": [
    "# Predict labels for the test set\n",
    "y_pred = model.predict(X_test)\n",
    "\n",
    "# Calculate accuracy\n",
    "accuracy = accuracy_score(y_test, y_pred)\n",
    "print(\"\\nModel Accuracy:\", accuracy)\n",
    "\n",
    "# Display the confusion matrix\n",
    "print(\"\\nConfusion Matrix:\")\n",
    "print(confusion_matrix(y_test, y_pred))\n",
    "\n",
    "# Display the classification report\n",
    "print(\"\\nClassification Report:\")\n",
    "print(classification_report(y_test, y_pred))\n"
   ]
  },
  {
   "cell_type": "markdown",
   "id": "c5ea9a71",
   "metadata": {},
   "source": [
    "# Step 9: Test with Custom Inputs"
   ]
  },
  {
   "cell_type": "code",
   "execution_count": 9,
   "id": "9515a3b4",
   "metadata": {},
   "outputs": [
    {
     "name": "stdout",
     "output_type": "stream",
     "text": [
      "\n",
      "Custom Prediction : \n",
      "Spam\n"
     ]
    }
   ],
   "source": [
    "# Define a function to predict if a message is spam or not\n",
    "def predict_spam(message):\n",
    "    # Clean the input message\n",
    "    message = clean_text(message)\n",
    "    \n",
    "    # Convert the message to numerical format\n",
    "    vectorized_message = cv.transform([message]).toarray()\n",
    "    \n",
    "    # Predict and return the result\n",
    "    prediction = model.predict(vectorized_message)\n",
    "    return \"Spam\" if prediction == 1 else \"Not Spam\"\n",
    "\n",
    "# Test the function with a sample message\n",
    "sample_message = \"Congratulations! You've won a free gift. Claim now!\"\n",
    "print(\"\\nCustom Prediction : \")\n",
    "print(predict_spam(sample_message))\n"
   ]
  },
  {
   "cell_type": "markdown",
   "id": "ae9ce053",
   "metadata": {},
   "source": [
    "# Step 10: Save the Model for Deployment"
   ]
  },
  {
   "cell_type": "code",
   "execution_count": 10,
   "id": "6a9c43ac",
   "metadata": {},
   "outputs": [
    {
     "name": "stdout",
     "output_type": "stream",
     "text": [
      "\n",
      "Model and vectorizer saved for deployment.\n"
     ]
    }
   ],
   "source": [
    "# Save the trained model and the CountVectorizer for future use\n",
    "joblib.dump(model, 'spam_detector_surajnate_model.pkl')\n",
    "joblib.dump(cv, 'vectorizer.pkl')\n",
    "\n",
    "print(\"\\nModel and vectorizer saved for deployment.\")\n"
   ]
  },
  {
   "cell_type": "markdown",
   "id": "e9b27a25",
   "metadata": {},
   "source": [
    "The User Interface/app Implementation Link - https://email-spam-detection-by-surajnate.streamlit.app/"
   ]
  },
  {
   "cell_type": "code",
   "execution_count": null,
   "id": "1ed52fa4",
   "metadata": {},
   "outputs": [],
   "source": []
  }
 ],
 "metadata": {
  "kernelspec": {
   "display_name": "Python 3 (ipykernel)",
   "language": "python",
   "name": "python3"
  },
  "language_info": {
   "codemirror_mode": {
    "name": "ipython",
    "version": 3
   },
   "file_extension": ".py",
   "mimetype": "text/x-python",
   "name": "python",
   "nbconvert_exporter": "python",
   "pygments_lexer": "ipython3",
   "version": "3.11.4"
  }
 },
 "nbformat": 4,
 "nbformat_minor": 5
}
